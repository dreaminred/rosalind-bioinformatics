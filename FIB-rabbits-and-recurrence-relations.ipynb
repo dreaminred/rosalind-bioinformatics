{
 "cells": [
  {
   "cell_type": "code",
   "execution_count": 1,
   "id": "929b2c95",
   "metadata": {},
   "outputs": [],
   "source": [
    "sample_data = (5,3)"
   ]
  },
  {
   "cell_type": "code",
   "execution_count": 34,
   "id": "6873eb9d",
   "metadata": {},
   "outputs": [],
   "source": [
    "def iterateWascallyWabbits(n,k):\n",
    "    \n",
    "    iterationNum = 2\n",
    "    populationList = [1,1]\n",
    "    adultList = [1,1]\n",
    "    juvenileList = [0,0]\n",
    "    \n",
    "    while(iterationNum < n):\n",
    "        \n",
    "        adultList.append(adultList[iterationNum-1] + juvenileList[iterationNum-1])\n",
    "        juvenileList.append(adultList[iterationNum-1]*k)\n",
    "        populationList.append(adultList[iterationNum]+juvenileList[iterationNum])\n",
    "\n",
    "        iterationNum += 1\n",
    "        \n",
    "    return populationList[-1]\n",
    "        \n",
    "        "
   ]
  },
  {
   "cell_type": "code",
   "execution_count": 31,
   "id": "80aed4ab",
   "metadata": {},
   "outputs": [
    {
     "data": {
      "text/plain": [
       "19"
      ]
     },
     "execution_count": 31,
     "metadata": {},
     "output_type": "execute_result"
    }
   ],
   "source": [
    "iterateWascallyWabbits(5,3)"
   ]
  },
  {
   "cell_type": "code",
   "execution_count": 32,
   "id": "2dcd5ef1",
   "metadata": {},
   "outputs": [],
   "source": [
    "test_data = (30,5)"
   ]
  },
  {
   "cell_type": "code",
   "execution_count": 35,
   "id": "b4072d30",
   "metadata": {},
   "outputs": [
    {
     "data": {
      "text/plain": [
       "5164501096416"
      ]
     },
     "execution_count": 35,
     "metadata": {},
     "output_type": "execute_result"
    }
   ],
   "source": [
    "iterateWascallyWabbits(test_data[0], test_data[1])"
   ]
  },
  {
   "cell_type": "code",
   "execution_count": null,
   "id": "d38d283a",
   "metadata": {},
   "outputs": [],
   "source": []
  }
 ],
 "metadata": {
  "kernelspec": {
   "display_name": "Python 3 (ipykernel)",
   "language": "python",
   "name": "python3"
  },
  "language_info": {
   "codemirror_mode": {
    "name": "ipython",
    "version": 3
   },
   "file_extension": ".py",
   "mimetype": "text/x-python",
   "name": "python",
   "nbconvert_exporter": "python",
   "pygments_lexer": "ipython3",
   "version": "3.9.12"
  },
  "toc": {
   "base_numbering": 1,
   "nav_menu": {},
   "number_sections": true,
   "sideBar": true,
   "skip_h1_title": false,
   "title_cell": "Table of Contents",
   "title_sidebar": "Contents",
   "toc_cell": false,
   "toc_position": {},
   "toc_section_display": true,
   "toc_window_display": false
  },
  "varInspector": {
   "cols": {
    "lenName": 16,
    "lenType": 16,
    "lenVar": 40
   },
   "kernels_config": {
    "python": {
     "delete_cmd_postfix": "",
     "delete_cmd_prefix": "del ",
     "library": "var_list.py",
     "varRefreshCmd": "print(var_dic_list())"
    },
    "r": {
     "delete_cmd_postfix": ") ",
     "delete_cmd_prefix": "rm(",
     "library": "var_list.r",
     "varRefreshCmd": "cat(var_dic_list()) "
    }
   },
   "types_to_exclude": [
    "module",
    "function",
    "builtin_function_or_method",
    "instance",
    "_Feature"
   ],
   "window_display": false
  }
 },
 "nbformat": 4,
 "nbformat_minor": 5
}
