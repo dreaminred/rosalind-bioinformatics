{
 "cells": [
  {
   "cell_type": "code",
   "execution_count": 22,
   "id": "ce671677",
   "metadata": {},
   "outputs": [],
   "source": [
    "sample_data = \"AGCTTTTCATTCTGACTGCAACGGGCAATATGTCTCTGTGTGGATTAAAAAAAGAGTGTCTGATAGCAGC\""
   ]
  },
  {
   "cell_type": "code",
   "execution_count": 23,
   "id": "741020a5",
   "metadata": {},
   "outputs": [],
   "source": [
    "def countATCGMolecules(string: str):\n",
    "    countA = 0\n",
    "    countT = 0\n",
    "    countC = 0\n",
    "    countG = 0\n",
    "    for index in range(len(string)):\n",
    "        if string[index] == 'A':\n",
    "            countA += 1\n",
    "        elif string[index] == 'T':\n",
    "            countT += 1\n",
    "        elif string[index] == 'C':\n",
    "            countC += 1\n",
    "        elif string[index] == 'G':\n",
    "            countG += 1\n",
    "            \n",
    "    print(f\"{countA} {countC} {countG} {countT}\")"
   ]
  },
  {
   "cell_type": "code",
   "execution_count": 24,
   "id": "ff1dd65e",
   "metadata": {},
   "outputs": [
    {
     "name": "stdout",
     "output_type": "stream",
     "text": [
      "20 12 17 21\n"
     ]
    }
   ],
   "source": [
    "countATCGMolecules(sample_data)"
   ]
  },
  {
   "cell_type": "code",
   "execution_count": 25,
   "id": "24beb446",
   "metadata": {},
   "outputs": [
    {
     "name": "stdout",
     "output_type": "stream",
     "text": [
      "237 259 218 235\n"
     ]
    }
   ],
   "source": [
    "test_data = \"TATGACTCGCTTCTGCCGAACCCCTCTTTGGCACTAAAAGGTCCATTGACTCACGCAATCGTGGCGCCCAACTTTTTTCTTGCCCCACCCAATGAGCGCTTGACGCCACGTCCCTTGAACACATCAAACTCTTGCTCACACTAGGAATGGCCACCGCGGCACGAGCCCAGCTAATAATATTCGGGGGCGTAGCGCTGCTATTCCCGGACCAAGTTCCCGGGGTGCAAGATTGGGCGTAACCCTGAAGATAGCCTACAGATGGACTTATAGGGTATGGTCGCCCAGAACCAATACCAACCGGTATTCCCTAGGATTGCGCTCTTCCTGTGAGACAGCAGACACTAGGTACTACACGCCCAATCTGCGCACTGTAGATAACCTTACCGATCAGCATAGGCCTTGGATCGCTCCGGCGAACACGATATCGCGATGCTAGAACTCCTTCCCTCATCGCATTTACCTGGTGTTTTTGCCCCAACATGCGAATTTGTGGGTAGTAATCGCAATAAGAGGCAGAACATATGAGCCTCCACCTCGGTTTACTTTGACCAGAGTTCTTAATTCGGTCGCATCAAGAAATTGCAGATAACGCGGAAACTTCGCCTATAACTCAAGGAATGACCAAGACCTAACCGATGGTCAGGTAGTTTCTATTAGGAAGCTACTGCGATAATCTGACTACATATACCCAAGCCCCATTATACGTCCCCTTAAGATCAGGCAGCCCCCAGCCAGAGTTGTGGCCTTGAATGGATGTAGCTTCGTGCGTTTTTGTGGGAAGACTGTCGATGAATCGCTGTAACGAGACAGGTCATGGTTGTAATGCTTCCCCACGAAGGTGGCCTATAGGGATTCACACGTGAGGCACCACTGCGGATCAAATTTATTTCTGACAGTGTCAAAGTTGCAGTTGACGTGCCTATTTGCCATGCAGGCAGTCTCTCACCTT\"\n",
    "countATCGMolecules(test_data)"
   ]
  },
  {
   "cell_type": "code",
   "execution_count": null,
   "id": "bacc99f1",
   "metadata": {},
   "outputs": [],
   "source": []
  }
 ],
 "metadata": {
  "kernelspec": {
   "display_name": "Python 3 (ipykernel)",
   "language": "python",
   "name": "python3"
  },
  "language_info": {
   "codemirror_mode": {
    "name": "ipython",
    "version": 3
   },
   "file_extension": ".py",
   "mimetype": "text/x-python",
   "name": "python",
   "nbconvert_exporter": "python",
   "pygments_lexer": "ipython3",
   "version": "3.9.12"
  },
  "toc": {
   "base_numbering": 1,
   "nav_menu": {},
   "number_sections": true,
   "sideBar": true,
   "skip_h1_title": false,
   "title_cell": "Table of Contents",
   "title_sidebar": "Contents",
   "toc_cell": false,
   "toc_position": {},
   "toc_section_display": true,
   "toc_window_display": false
  },
  "varInspector": {
   "cols": {
    "lenName": 16,
    "lenType": 16,
    "lenVar": 40
   },
   "kernels_config": {
    "python": {
     "delete_cmd_postfix": "",
     "delete_cmd_prefix": "del ",
     "library": "var_list.py",
     "varRefreshCmd": "print(var_dic_list())"
    },
    "r": {
     "delete_cmd_postfix": ") ",
     "delete_cmd_prefix": "rm(",
     "library": "var_list.r",
     "varRefreshCmd": "cat(var_dic_list()) "
    }
   },
   "types_to_exclude": [
    "module",
    "function",
    "builtin_function_or_method",
    "instance",
    "_Feature"
   ],
   "window_display": false
  }
 },
 "nbformat": 4,
 "nbformat_minor": 5
}
