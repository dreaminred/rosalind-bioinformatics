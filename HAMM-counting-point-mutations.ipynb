{
 "cells": [
  {
   "cell_type": "code",
   "execution_count": 2,
   "id": "69ff305b",
   "metadata": {},
   "outputs": [],
   "source": [
    "sample_dataset = [\"GAGCCTACTAACGGGAT\",\"CATCGTAATGACGGCCT\"]"
   ]
  },
  {
   "cell_type": "code",
   "execution_count": 4,
   "id": "1974a72c",
   "metadata": {},
   "outputs": [],
   "source": [
    "def computeHammingDistance(stringList) -> int:\n",
    "    \n",
    "    assert len(stringList[0]) == len(stringList[1])\n",
    "    hammingDistance = 0\n",
    "    \n",
    "    for index in range(len(stringList[0])):\n",
    "        if(stringList[0][index] != stringList[1][index]):\n",
    "            hammingDistance += 1\n",
    "    return hammingDistance"
   ]
  },
  {
   "cell_type": "code",
   "execution_count": 5,
   "id": "f2dbf110",
   "metadata": {},
   "outputs": [
    {
     "data": {
      "text/plain": [
       "7"
      ]
     },
     "execution_count": 5,
     "metadata": {},
     "output_type": "execute_result"
    }
   ],
   "source": [
    "computeHammingDistance(sample_dataset)"
   ]
  },
  {
   "cell_type": "code",
   "execution_count": 6,
   "id": "4258580b",
   "metadata": {},
   "outputs": [],
   "source": [
    "test_dataset = [\"CCCTAAGAGCCCTGAGTACCCGGTATCTTCTTCGTTCGTTCACGTATGGAAGATAGCTTTTCAAAAAAGAGGGCTTCTGCATTCCCACAGTAGTAGCAGGTACCCCAGGTACGGCCCGGAAGCGGCGACGATGGTTTCCGCTAGCGTAATTCCATCCCACCAGGCGTATCATCATATGAATGTCGGGTCCATTTACCGGATGCAGGAGACCCCTCATGTAGTACCCTCCCCCCGATTCGCGTGGGTGCCTATGCAACCTTCGTAGTGCAGCGATCGAGTCGACGGGCTAGCTACACGGCTCGACCTCCGAATACGGAACGCAGGCTTATAGCGAGATGACACATTCAACACCTGGATTTATTGGTCCCATGCAGAATATAAATGGGTGGCTAATAGTCCTTCCTGATAACGGGGACCTCCTCACCTTCGGTTACCTAAAGATTGGCTGTCTTATTATACACCCCGACATTCCCAGGGGCATCCCCTCTTCGACTGTCGAAAAACTGTAAGTCTTATATGGCCACTCCGGCATCGCTATGATTGGAGCGAGGAGCACGCAAACGGCGGGGGAGTATGATTCAATCAGTTATGATGGCCCGGACGGGGAGCCAAATTCAGCTAACTATAAAGTGTTGTTTCTCTCTCTAATGTACAAAGTAAGTTCCCTAACGGTCCCTGCAACCGTGTTGCCGACCGGCGCCACATCAGGGCTGCTCCTGTCCGCCTTTGCGTATTAATAGGGCAATGTGGAGCACTCCAGGCGGCGCCGAGGGAACCCCGACACCATATGTGAAGTTGGCAGAAGTGCTTGCGAGGGGAGGTTGCTCTGATCCCTCGAAGCTAGGTGCAAGACACGAGGGGAGAGGCGACCTGTTTCGGTTGACTACCTTGCGGTACTTATGGCAAATATCATTTTTGTTTCAACTACATTACTC\", \"GACCCAGACCTCTGAGTGAACGTTCTCCTTGCTGCGGGGTGAGCGAGCTTCTATAGCGTGAGCTTGTACCCCCCGCCTATATCTCCATGCTAGCCGCACACATAGTCCTTCCGGTGGCAAAGTTTCAACTAATATATAAGTCACTCGACTGGCATCCGACCAGAGTTGCCGTCATACTCCTGGAAGGGGTGTGAACGCGACACAGGATACTTATAAACTAAGACTTTCCCGGCTTTTCCGTGCGCCTTGAATTCAACGTTGACACCCAAACGTGCAACCCGAGGCGCAAGGCAGCGGTCCGAATCTCCCATGACCTCAGGCAATCGGCACGTTAGATAAAACACTCGATACCTGCAAGAATTCGCCTTCTCCTTCTGCGATTTCGGATGCCATACCTTCTTTCGGGTAACCGCCCCCTCCTCGACCTGCCCACCATCATAAGCCTGAATCGTCTTTAAGCATACGACTTTGCCATCTCCATCCAGACTCGCACCATGAAACAATCGTCACACTGGTCTGGCGAGTAGATAATTGCCTTGATGTTCTGCACGAGCTCACACGTCGCGCCGGACGAATATCGGATGGTTACTGCGGGCCCGAAAGTGTCTCCAAATTGAGATAAATAAAATTTTTACACCCCCCCTATTATTTGGCAGAACACTTCCGCGTCGGACGATGTAGCGGGGTTGCCACCTATCAACAAGGCAAATCTGTTACTGATTAATGGTATGCATTAGTACTGAAATGTAGAACACTTCAGACGGTGCAGACATATGGTTAATCGCTGCCGGGCGGGTACTGACAGCGGATCCGAAAGGCGGGTGAGCTCGTCGCTGTATTTGCGGCGGATCACACAAGGGGGCCGGTCACCTTCGTAAGTTGTCCTCCAATCAGGAATTCTTACATCCAAGTTTGATGGCGAACCTGCGTTCCTC\"]"
   ]
  },
  {
   "cell_type": "code",
   "execution_count": 7,
   "id": "52d72fc2",
   "metadata": {},
   "outputs": [
    {
     "data": {
      "text/plain": [
       "486"
      ]
     },
     "execution_count": 7,
     "metadata": {},
     "output_type": "execute_result"
    }
   ],
   "source": [
    "computeHammingDistance(test_dataset)"
   ]
  },
  {
   "cell_type": "code",
   "execution_count": null,
   "id": "3c485bf6",
   "metadata": {},
   "outputs": [],
   "source": []
  }
 ],
 "metadata": {
  "kernelspec": {
   "display_name": "Python 3 (ipykernel)",
   "language": "python",
   "name": "python3"
  },
  "language_info": {
   "codemirror_mode": {
    "name": "ipython",
    "version": 3
   },
   "file_extension": ".py",
   "mimetype": "text/x-python",
   "name": "python",
   "nbconvert_exporter": "python",
   "pygments_lexer": "ipython3",
   "version": "3.9.12"
  },
  "toc": {
   "base_numbering": 1,
   "nav_menu": {},
   "number_sections": true,
   "sideBar": true,
   "skip_h1_title": false,
   "title_cell": "Table of Contents",
   "title_sidebar": "Contents",
   "toc_cell": false,
   "toc_position": {},
   "toc_section_display": true,
   "toc_window_display": false
  },
  "varInspector": {
   "cols": {
    "lenName": 16,
    "lenType": 16,
    "lenVar": 40
   },
   "kernels_config": {
    "python": {
     "delete_cmd_postfix": "",
     "delete_cmd_prefix": "del ",
     "library": "var_list.py",
     "varRefreshCmd": "print(var_dic_list())"
    },
    "r": {
     "delete_cmd_postfix": ") ",
     "delete_cmd_prefix": "rm(",
     "library": "var_list.r",
     "varRefreshCmd": "cat(var_dic_list()) "
    }
   },
   "types_to_exclude": [
    "module",
    "function",
    "builtin_function_or_method",
    "instance",
    "_Feature"
   ],
   "window_display": false
  }
 },
 "nbformat": 4,
 "nbformat_minor": 5
}
