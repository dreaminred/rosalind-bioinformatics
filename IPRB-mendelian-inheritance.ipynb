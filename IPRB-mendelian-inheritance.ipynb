{
 "cells": [
  {
   "cell_type": "code",
   "execution_count": 20,
   "id": "a6e061e2-1142-4bdd-8770-8e1f73e7a33c",
   "metadata": {},
   "outputs": [],
   "source": [
    "def evaluateMendelianProbability(k:int, m:int, n:int):\n",
    "    \"\"\"\n",
    "    k - Homogenous Dominant\n",
    "    m - Heterogenous\n",
    "    n - Homogenous Recessive\n",
    "    \"\"\"\n",
    "    pop = k + m + n\n",
    "    prob = (4*(k*(k-1)+2*k*m+2*k*n+m*n)+3*m*(m-1))/(4*pop*(pop-1))\n",
    "\n",
    "    \n",
    "    return prob"
   ]
  },
  {
   "cell_type": "code",
   "execution_count": 21,
   "id": "9e40675c-e9be-4aa3-bdbc-5d2fe2df54c3",
   "metadata": {},
   "outputs": [
    {
     "data": {
      "text/plain": [
       "0.7833333333333333"
      ]
     },
     "execution_count": 21,
     "metadata": {},
     "output_type": "execute_result"
    }
   ],
   "source": [
    "evaluateMendelianProbability(2,2,2)"
   ]
  },
  {
   "cell_type": "code",
   "execution_count": 22,
   "id": "f39ca330-8b5b-43f1-982c-5b7ce749bc79",
   "metadata": {},
   "outputs": [
    {
     "data": {
      "text/plain": [
       "0.6841614906832298"
      ]
     },
     "execution_count": 22,
     "metadata": {},
     "output_type": "execute_result"
    }
   ],
   "source": [
    "evaluateMendelianProbability(21,19,30)"
   ]
  }
 ],
 "metadata": {
  "kernelspec": {
   "display_name": "Python 3 (ipykernel)",
   "language": "python",
   "name": "python3"
  },
  "language_info": {
   "codemirror_mode": {
    "name": "ipython",
    "version": 3
   },
   "file_extension": ".py",
   "mimetype": "text/x-python",
   "name": "python",
   "nbconvert_exporter": "python",
   "pygments_lexer": "ipython3",
   "version": "3.11.5"
  }
 },
 "nbformat": 4,
 "nbformat_minor": 5
}
