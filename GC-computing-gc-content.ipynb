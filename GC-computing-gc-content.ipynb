{
 "cells": [
  {
   "cell_type": "code",
   "execution_count": 23,
   "id": "c9504f6b",
   "metadata": {},
   "outputs": [],
   "source": [
    "import re"
   ]
  },
  {
   "cell_type": "code",
   "execution_count": 13,
   "id": "48cd0f8f",
   "metadata": {},
   "outputs": [],
   "source": [
    "def computeGCcontent(string: str) -> float:\n",
    "    countC = string.count('C')\n",
    "    countG = string.count('G')\n",
    "    return round(((countC + countG)/len(string)*100),6)"
   ]
  },
  {
   "cell_type": "code",
   "execution_count": 14,
   "id": "b2dc5679",
   "metadata": {},
   "outputs": [],
   "source": [
    "sample_data = \"CCACCCTCGTGGTATGGCTAGGCATTCAGGAACCGGAGAACGCTTCAGACCAGCCCGGACTGGGAACCTGCGGGCAGTAGGTGGAAT\""
   ]
  },
  {
   "cell_type": "code",
   "execution_count": 15,
   "id": "4fdfa155",
   "metadata": {},
   "outputs": [
    {
     "data": {
      "text/plain": [
       "60.91954"
      ]
     },
     "execution_count": 15,
     "metadata": {},
     "output_type": "execute_result"
    }
   ],
   "source": [
    "computeGCcontent(sample_data)"
   ]
  },
  {
   "cell_type": "code",
   "execution_count": 50,
   "id": "9fb65f64",
   "metadata": {},
   "outputs": [],
   "source": [
    "with open(\"dataset/rosalind_gc.txt\") as f:\n",
    "    test_data = f.read()"
   ]
  },
  {
   "cell_type": "code",
   "execution_count": 51,
   "id": "f5b404c1",
   "metadata": {},
   "outputs": [
    {
     "name": "stdout",
     "output_type": "stream",
     "text": [
      "[1, 848, 1720, 2668, 3573, 4478, 5316, 6279, -1]\n"
     ]
    }
   ],
   "source": [
    "entries = [entry.start() for entry in re.finditer('Rosalind_', test_data)]\n",
    "entries.append(-1)\n",
    "print(entries)"
   ]
  },
  {
   "cell_type": "code",
   "execution_count": 62,
   "id": "24b83dde",
   "metadata": {},
   "outputs": [
    {
     "name": "stdout",
     "output_type": "stream",
     "text": [
      "Rosalind_0788\n",
      "55.288986\n"
     ]
    }
   ],
   "source": [
    "stringIDList = []\n",
    "gcContentList = []\n",
    "\n",
    "for i in range(len(entries)-1):\n",
    "    string = test_data[entries[i]:entries[i+1]]\n",
    "    string_id = string[0:13]    \n",
    "    string = re.sub(r\"[^ATCG]\",\"\",string)\n",
    "    stringIDList.append(string_id)\n",
    "    gcContentList.append(computeGCcontent(string))\n",
    "\n",
    "index_max = max(range(len(gcContentList)), key=gcContentList.__getitem__)\n",
    "print(stringIDList[index_max])\n",
    "print(gcContentList[index_max])"
   ]
  }
 ],
 "metadata": {
  "kernelspec": {
   "display_name": "Python 3 (ipykernel)",
   "language": "python",
   "name": "python3"
  },
  "language_info": {
   "codemirror_mode": {
    "name": "ipython",
    "version": 3
   },
   "file_extension": ".py",
   "mimetype": "text/x-python",
   "name": "python",
   "nbconvert_exporter": "python",
   "pygments_lexer": "ipython3",
   "version": "3.9.12"
  },
  "toc": {
   "base_numbering": 1,
   "nav_menu": {},
   "number_sections": true,
   "sideBar": true,
   "skip_h1_title": false,
   "title_cell": "Table of Contents",
   "title_sidebar": "Contents",
   "toc_cell": false,
   "toc_position": {},
   "toc_section_display": true,
   "toc_window_display": false
  },
  "varInspector": {
   "cols": {
    "lenName": 16,
    "lenType": 16,
    "lenVar": 40
   },
   "kernels_config": {
    "python": {
     "delete_cmd_postfix": "",
     "delete_cmd_prefix": "del ",
     "library": "var_list.py",
     "varRefreshCmd": "print(var_dic_list())"
    },
    "r": {
     "delete_cmd_postfix": ") ",
     "delete_cmd_prefix": "rm(",
     "library": "var_list.r",
     "varRefreshCmd": "cat(var_dic_list()) "
    }
   },
   "types_to_exclude": [
    "module",
    "function",
    "builtin_function_or_method",
    "instance",
    "_Feature"
   ],
   "window_display": false
  }
 },
 "nbformat": 4,
 "nbformat_minor": 5
}
