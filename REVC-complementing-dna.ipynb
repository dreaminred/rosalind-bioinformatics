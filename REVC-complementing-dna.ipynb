{
 "cells": [
  {
   "cell_type": "code",
   "execution_count": 4,
   "id": "cb4367f3",
   "metadata": {},
   "outputs": [],
   "source": [
    "sample_data = \"AAAACCCGGT\""
   ]
  },
  {
   "cell_type": "code",
   "execution_count": 5,
   "id": "0a131650",
   "metadata": {},
   "outputs": [],
   "source": [
    "def getReverseComplement(string : str):\n",
    "    reverseString = string[::-1]\n",
    "    reverseComplementString = \"\"\n",
    "    for index in range(len(reverseString)):\n",
    "        if reverseString[index] == \"A\":\n",
    "            reverseComplementString += \"T\"\n",
    "        elif reverseString[index] == \"T\":\n",
    "            reverseComplementString += \"A\"\n",
    "        elif reverseString[index] == \"C\":\n",
    "            reverseComplementString += \"G\"\n",
    "        elif reverseString[index] == \"G\":\n",
    "            reverseComplementString += \"C\"\n",
    "    return reverseComplementString"
   ]
  },
  {
   "cell_type": "code",
   "execution_count": 6,
   "id": "70d7a1ad",
   "metadata": {},
   "outputs": [
    {
     "data": {
      "text/plain": [
       "'ACCGGGTTTT'"
      ]
     },
     "execution_count": 6,
     "metadata": {},
     "output_type": "execute_result"
    }
   ],
   "source": [
    "getReverseComplement(sample_data)"
   ]
  },
  {
   "cell_type": "code",
   "execution_count": 7,
   "id": "b0184299",
   "metadata": {},
   "outputs": [],
   "source": [
    "test_data = \"TACGACGTAACCACTTTTGACAGGAGTCTTCAGCGAATTTCAATGCAACAAGCTTATCTGTCTGCTCAGTGGGCTCAGGCAGGTGATTACATTAGCATTTAGTGATTACTAGTCAGCCGGCGCTCCGTGCCAGGGTCTGCCCGGACGCAGTACTGAGTGACATCTGAAAGCAGTACAGGCTGTAATTTGTCGGCCATTGGTCCACAGAGAGGTCGTCACACCGCTTCACCAATGCCTCAGATACAGCTGCACAGGACTTTTCCCGCTAGGGGGCGTAGCTAACCTTTAATGCTATCGAATAGGAAGAGGTGCTTCGTCATTCCAAGTGACTCGCCCAGAATCTAAAGGGGTAAGTCTCCTGGTTGTTCGATGCACGGTGATCCCTGTGCGTAGAACGGTTGGCAGGCGACTATCTTCCGGCGAATGGGGAAGACTAGCACCCGATATTACGCAGATCTCAATAGGGTCAAAGGGTACAGAGCTGAGACGTTTTAGTAGCTAGCTTTGCCCACTCGTTTGCCCCAAAAGCCGCGTTTTTACCAAACAGCCCTTACCAGCGGGACCCCTACATATGCGGCCGGTATCACGCGGGCGTGCATGCTGTAGCCACTTAGGCCTGGTTCCTGTTGCCGGTGCCTCGATGTGCAGCGCCTCCGACCCGTAACTATTGTGAGCCCTATGGGAGAATGGCTCCTTGAAAAAGTTTTAGTCTAGGAAGAGTGCCTTTGGACTGTGGTCACCCTTGCTGAGGATTGTGAGGAAGGATTGGAGGAATCGCGGAGACGTTGGATCCAACGATGCTATTTGTAGGGATCCGACACGTACGTACCAATTTCCGGGAATAATCTCATCATAGATCAGCAGTCGCTTTCTCCTA\""
   ]
  },
  {
   "cell_type": "code",
   "execution_count": 8,
   "id": "b82807ce",
   "metadata": {},
   "outputs": [
    {
     "data": {
      "text/plain": [
       "'TAGGAGAAAGCGACTGCTGATCTATGATGAGATTATTCCCGGAAATTGGTACGTACGTGTCGGATCCCTACAAATAGCATCGTTGGATCCAACGTCTCCGCGATTCCTCCAATCCTTCCTCACAATCCTCAGCAAGGGTGACCACAGTCCAAAGGCACTCTTCCTAGACTAAAACTTTTTCAAGGAGCCATTCTCCCATAGGGCTCACAATAGTTACGGGTCGGAGGCGCTGCACATCGAGGCACCGGCAACAGGAACCAGGCCTAAGTGGCTACAGCATGCACGCCCGCGTGATACCGGCCGCATATGTAGGGGTCCCGCTGGTAAGGGCTGTTTGGTAAAAACGCGGCTTTTGGGGCAAACGAGTGGGCAAAGCTAGCTACTAAAACGTCTCAGCTCTGTACCCTTTGACCCTATTGAGATCTGCGTAATATCGGGTGCTAGTCTTCCCCATTCGCCGGAAGATAGTCGCCTGCCAACCGTTCTACGCACAGGGATCACCGTGCATCGAACAACCAGGAGACTTACCCCTTTAGATTCTGGGCGAGTCACTTGGAATGACGAAGCACCTCTTCCTATTCGATAGCATTAAAGGTTAGCTACGCCCCCTAGCGGGAAAAGTCCTGTGCAGCTGTATCTGAGGCATTGGTGAAGCGGTGTGACGACCTCTCTGTGGACCAATGGCCGACAAATTACAGCCTGTACTGCTTTCAGATGTCACTCAGTACTGCGTCCGGGCAGACCCTGGCACGGAGCGCCGGCTGACTAGTAATCACTAAATGCTAATGTAATCACCTGCCTGAGCCCACTGAGCAGACAGATAAGCTTGTTGCATTGAAATTCGCTGAAGACTCCTGTCAAAAGTGGTTACGTCGTA'"
      ]
     },
     "execution_count": 8,
     "metadata": {},
     "output_type": "execute_result"
    }
   ],
   "source": [
    "getReverseComplement(test_data)"
   ]
  },
  {
   "cell_type": "code",
   "execution_count": null,
   "id": "9435fb28",
   "metadata": {},
   "outputs": [],
   "source": []
  }
 ],
 "metadata": {
  "kernelspec": {
   "display_name": "Python 3 (ipykernel)",
   "language": "python",
   "name": "python3"
  },
  "language_info": {
   "codemirror_mode": {
    "name": "ipython",
    "version": 3
   },
   "file_extension": ".py",
   "mimetype": "text/x-python",
   "name": "python",
   "nbconvert_exporter": "python",
   "pygments_lexer": "ipython3",
   "version": "3.9.12"
  },
  "toc": {
   "base_numbering": 1,
   "nav_menu": {},
   "number_sections": true,
   "sideBar": true,
   "skip_h1_title": false,
   "title_cell": "Table of Contents",
   "title_sidebar": "Contents",
   "toc_cell": false,
   "toc_position": {},
   "toc_section_display": true,
   "toc_window_display": false
  },
  "varInspector": {
   "cols": {
    "lenName": 16,
    "lenType": 16,
    "lenVar": 40
   },
   "kernels_config": {
    "python": {
     "delete_cmd_postfix": "",
     "delete_cmd_prefix": "del ",
     "library": "var_list.py",
     "varRefreshCmd": "print(var_dic_list())"
    },
    "r": {
     "delete_cmd_postfix": ") ",
     "delete_cmd_prefix": "rm(",
     "library": "var_list.r",
     "varRefreshCmd": "cat(var_dic_list()) "
    }
   },
   "types_to_exclude": [
    "module",
    "function",
    "builtin_function_or_method",
    "instance",
    "_Feature"
   ],
   "window_display": false
  }
 },
 "nbformat": 4,
 "nbformat_minor": 5
}
