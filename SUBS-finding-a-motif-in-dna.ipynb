{
 "cells": [
  {
   "cell_type": "code",
   "execution_count": 1,
   "id": "3da10905-eda7-4d48-ba4c-4e87fad95dab",
   "metadata": {},
   "outputs": [],
   "source": [
    "import re"
   ]
  },
  {
   "cell_type": "code",
   "execution_count": 2,
   "id": "b15cdf19-ad24-43f7-9c01-5d1711f46bd4",
   "metadata": {},
   "outputs": [],
   "source": [
    "sample_data = 'GATATATGCATATACTT'"
   ]
  },
  {
   "cell_type": "code",
   "execution_count": 15,
   "id": "733cf289-001a-4c7a-8297-2807bdd9fc19",
   "metadata": {},
   "outputs": [],
   "source": [
    "def findMotifs(dnaString: str, motif):\n",
    "    motifList =  [m.start() + 1 for m in re.finditer('(?='+motif+')', dnaString)]\n",
    "    print(' '.join(str(x) for x in motifList))"
   ]
  },
  {
   "cell_type": "code",
   "execution_count": 16,
   "id": "f750204e-1fc5-47e6-87df-cca1a5ae7d82",
   "metadata": {},
   "outputs": [
    {
     "name": "stdout",
     "output_type": "stream",
     "text": [
      "2 4 10\n"
     ]
    }
   ],
   "source": [
    "findMotifs(sample_data, 'ATAT')"
   ]
  },
  {
   "cell_type": "code",
   "execution_count": 17,
   "id": "f68dfbe9-711d-4777-92b0-d473d68bd2e3",
   "metadata": {},
   "outputs": [],
   "source": [
    "test_data = 'ACAATGTACAATGTTCGACAATGTACAATGTTAGACAATGTACAATGTATTGACACAATGTGTACAATGTCGCGACAATGTCCGATGACACAATGTACAATGTACAATGTATACAATGTAACAATGTAAACTTTTACCCACAATGTGGTTAACAATGTGGCACAATGTATTACAATGTATCAACAATGTTAGAAACAATGTTGTACAATGTGACAATGTTACAATGTAGACAATGTACAATGTCAATACAATGTACAATGTCCACAATGTACCACAATGTCACAATGTGACAATGTACAATGTACAATGTACAATGTACAATGTTTACCCCTACAATGTACAATGTAACAATGTATACAATGTGTGCACAATGTAAACAATGTATCCATACAATGTACACAATGTCATCACAATGTACAATGTGTCCTCACAATGTGACAATGTATACAATGTAGTACAATGTACAATGTCACACCCGGACAATGTTTCGAACAATGTACAATGTACAATGTCACAATGTGACAATGTGGTCACAATGTACAATGTACCACACAATGTACAATGTGACAATGTTTACGGTAAACAATGTTTCTACAATGTTCGCTTGTCGATGTACAATGTAATACAATGTACAATGTACAATGTACAATGTCACAATGTGCACAATGTCACAATGTTAACACAATGTTACAATGTCACAATGTACAATGTCCGGACAATGTACGGACAATGTGATGCGTACAATGTACTTAGACAATGTATGACAATGTACAATGTGAACAATGTTCCACAATGTGACAATGTACAATGTACAATGTT'\n",
    "test_motif = 'ACAATGTAC'"
   ]
  },
  {
   "cell_type": "code",
   "execution_count": 18,
   "id": "e05b2ac8-8ab3-4c64-b4f6-49e0cdfa80d3",
   "metadata": {},
   "outputs": [
    {
     "name": "stdout",
     "output_type": "stream",
     "text": [
      "1 18 35 90 97 230 248 264 290 297 304 311 333 390 410 457 492 499 533 540 552 625 632 639 698 716 741 764 798 805\n"
     ]
    }
   ],
   "source": [
    "findMotifs(test_data, test_motif)"
   ]
  }
 ],
 "metadata": {
  "kernelspec": {
   "display_name": "Python 3 (ipykernel)",
   "language": "python",
   "name": "python3"
  },
  "language_info": {
   "codemirror_mode": {
    "name": "ipython",
    "version": 3
   },
   "file_extension": ".py",
   "mimetype": "text/x-python",
   "name": "python",
   "nbconvert_exporter": "python",
   "pygments_lexer": "ipython3",
   "version": "3.11.5"
  }
 },
 "nbformat": 4,
 "nbformat_minor": 5
}
