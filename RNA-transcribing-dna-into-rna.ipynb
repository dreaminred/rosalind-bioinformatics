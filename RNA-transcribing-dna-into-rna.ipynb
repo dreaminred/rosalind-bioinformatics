{
 "cells": [
  {
   "cell_type": "code",
   "execution_count": 1,
   "id": "39b45c7d",
   "metadata": {},
   "outputs": [],
   "source": [
    "sample_data = \"GATGGAACTTGACTACGTAAATT\""
   ]
  },
  {
   "cell_type": "code",
   "execution_count": 11,
   "id": "b3563bb1",
   "metadata": {},
   "outputs": [],
   "source": [
    "def transcribeDNA2RNA(string: str) -> str:\n",
    "    return string.replace(\"T\", \"U\")\n",
    "    "
   ]
  },
  {
   "cell_type": "code",
   "execution_count": 12,
   "id": "4068b537",
   "metadata": {},
   "outputs": [
    {
     "data": {
      "text/plain": [
       "'GAUGGAACUUGACUACGUAAAUU'"
      ]
     },
     "execution_count": 12,
     "metadata": {},
     "output_type": "execute_result"
    }
   ],
   "source": [
    "transcribeDNA2RNA(sample_data)"
   ]
  },
  {
   "cell_type": "code",
   "execution_count": 13,
   "id": "78f90d49",
   "metadata": {},
   "outputs": [],
   "source": [
    "test_data = 'ACACCAATCCGGGAGTACGGACTGTGAGGCTGCTCTCGTACTAATAGTTGAATCTATCTATTGTACCAGACGGGGCCCAGGCAAGGTGAGGATTAGAGGGAGACTGACGTGCCTCAGTCGTGGAGCTTCTGAACGAAGGAGCACTATCATTACCACTTGCCAACGCTTGTATCGCCGGGATGTTACGAAGATTATAGGGGCTGTCGTGTATTCTAGGTGTAACCCACTGTTTGTCTAATTGTGGTCGCACAAGGTTGTGTAGATGCCGTCGGGGCTCTAGGATAGCTTGCCATCGCGGTGGAGCACTGGTTCAGAGTTCCGGCTATAAGATTGACTCAAGAGTCCGGGTGTTCTTCTCTTAAGACTTACAAGGACGTCGCCTCCCCCCCATGCCCATGCGGCTCGGTATAGGCACTATACCGATCCGCTTACGCGCTAATCGCAACTAGGGGGTCCCTCGAAGTGATGGAGGGGCGGCGGAATCACGCTATCAAAGAGGTTAGACTAGGTTCCTGGACAATCGCATGTCGGGGCAGGATAAACGAGCGGGCGGAATTCGCTCATGCTCCGAGTTTTGACTCGTTGTGCTGGGAGGTCAACCTTAGATGTGGATTGTATACGCAAGTAATGCAACCTACAACGATATGTTCTTCATTGATACTAGGTTCTTACACGTCACCTAGCTTGACCTAGAGCTAAGCATGTACCTTCATCTACTCTTCATCACAGACTCACCTGGTTGCCACCACTACATTTCCAATAATGTTCCCGTCTGTGCTAATCGCCTAAGCCTAACGACACGGAGAGCCGAAAGCATACGTCAGTAACGGCAATGGAGAACGTGATTGACCCGTGTCTATTTTTCTGATTGTGTAATTGAACGCACTAGAGGAACAGGGGTCAGTTGACTGTCTCGCCGAACTGGGCTCCGCGACTAGAGACGAGACTTTGTAAACCAGACAATTCATC'"
   ]
  },
  {
   "cell_type": "code",
   "execution_count": 14,
   "id": "b17dbea8",
   "metadata": {},
   "outputs": [
    {
     "data": {
      "text/plain": [
       "'ACACCAAUCCGGGAGUACGGACUGUGAGGCUGCUCUCGUACUAAUAGUUGAAUCUAUCUAUUGUACCAGACGGGGCCCAGGCAAGGUGAGGAUUAGAGGGAGACUGACGUGCCUCAGUCGUGGAGCUUCUGAACGAAGGAGCACUAUCAUUACCACUUGCCAACGCUUGUAUCGCCGGGAUGUUACGAAGAUUAUAGGGGCUGUCGUGUAUUCUAGGUGUAACCCACUGUUUGUCUAAUUGUGGUCGCACAAGGUUGUGUAGAUGCCGUCGGGGCUCUAGGAUAGCUUGCCAUCGCGGUGGAGCACUGGUUCAGAGUUCCGGCUAUAAGAUUGACUCAAGAGUCCGGGUGUUCUUCUCUUAAGACUUACAAGGACGUCGCCUCCCCCCCAUGCCCAUGCGGCUCGGUAUAGGCACUAUACCGAUCCGCUUACGCGCUAAUCGCAACUAGGGGGUCCCUCGAAGUGAUGGAGGGGCGGCGGAAUCACGCUAUCAAAGAGGUUAGACUAGGUUCCUGGACAAUCGCAUGUCGGGGCAGGAUAAACGAGCGGGCGGAAUUCGCUCAUGCUCCGAGUUUUGACUCGUUGUGCUGGGAGGUCAACCUUAGAUGUGGAUUGUAUACGCAAGUAAUGCAACCUACAACGAUAUGUUCUUCAUUGAUACUAGGUUCUUACACGUCACCUAGCUUGACCUAGAGCUAAGCAUGUACCUUCAUCUACUCUUCAUCACAGACUCACCUGGUUGCCACCACUACAUUUCCAAUAAUGUUCCCGUCUGUGCUAAUCGCCUAAGCCUAACGACACGGAGAGCCGAAAGCAUACGUCAGUAACGGCAAUGGAGAACGUGAUUGACCCGUGUCUAUUUUUCUGAUUGUGUAAUUGAACGCACUAGAGGAACAGGGGUCAGUUGACUGUCUCGCCGAACUGGGCUCCGCGACUAGAGACGAGACUUUGUAAACCAGACAAUUCAUC'"
      ]
     },
     "execution_count": 14,
     "metadata": {},
     "output_type": "execute_result"
    }
   ],
   "source": [
    "transcribeDNA2RNA(test_data)"
   ]
  },
  {
   "cell_type": "code",
   "execution_count": null,
   "id": "55e6203e",
   "metadata": {},
   "outputs": [],
   "source": []
  }
 ],
 "metadata": {
  "kernelspec": {
   "display_name": "Python 3 (ipykernel)",
   "language": "python",
   "name": "python3"
  },
  "language_info": {
   "codemirror_mode": {
    "name": "ipython",
    "version": 3
   },
   "file_extension": ".py",
   "mimetype": "text/x-python",
   "name": "python",
   "nbconvert_exporter": "python",
   "pygments_lexer": "ipython3",
   "version": "3.9.12"
  },
  "toc": {
   "base_numbering": 1,
   "nav_menu": {},
   "number_sections": true,
   "sideBar": true,
   "skip_h1_title": false,
   "title_cell": "Table of Contents",
   "title_sidebar": "Contents",
   "toc_cell": false,
   "toc_position": {},
   "toc_section_display": true,
   "toc_window_display": false
  },
  "varInspector": {
   "cols": {
    "lenName": 16,
    "lenType": 16,
    "lenVar": 40
   },
   "kernels_config": {
    "python": {
     "delete_cmd_postfix": "",
     "delete_cmd_prefix": "del ",
     "library": "var_list.py",
     "varRefreshCmd": "print(var_dic_list())"
    },
    "r": {
     "delete_cmd_postfix": ") ",
     "delete_cmd_prefix": "rm(",
     "library": "var_list.r",
     "varRefreshCmd": "cat(var_dic_list()) "
    }
   },
   "types_to_exclude": [
    "module",
    "function",
    "builtin_function_or_method",
    "instance",
    "_Feature"
   ],
   "window_display": false
  }
 },
 "nbformat": 4,
 "nbformat_minor": 5
}
